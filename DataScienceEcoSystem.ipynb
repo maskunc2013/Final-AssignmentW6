{
 "cells": [
  {
   "cell_type": "markdown",
   "id": "105e277d",
   "metadata": {},
   "source": [
    "# Data Science Tools and Ecosystem\n"
   ]
  },
  {
   "cell_type": "markdown",
   "id": "740468d3",
   "metadata": {},
   "source": [
    "## Author \n",
    "Masunoh"
   ]
  },
  {
   "cell_type": "markdown",
   "id": "43fb412e",
   "metadata": {},
   "source": [
    "In this notebook, Data Science Tools and Ecosystem are summarized.\n"
   ]
  },
  {
   "cell_type": "markdown",
   "id": "b4ac9e0b",
   "metadata": {},
   "source": [
    "**Objectives:** \n",
    "\n",
    "* List popular languages for Data Science\n",
    "* List of popular DS tools\n",
    "* Where you can download or access the tools\n",
    "* How to share DS information"
   ]
  },
  {
   "cell_type": "markdown",
   "id": "0fe7e37e",
   "metadata": {},
   "source": [
    "Some of the popular languages that Data Scientists use are:"
   ]
  },
  {
   "cell_type": "markdown",
   "id": "4e75aded",
   "metadata": {},
   "source": [
    "1. Python\n",
    "2. SQL\n",
    "3. R\n",
    "4. Julia"
   ]
  },
  {
   "cell_type": "markdown",
   "id": "cc29bfa3",
   "metadata": {},
   "source": [
    "Some of the commonly used libraries used by Data Scientists include:\n",
    "1. TenserFlow\n",
    "2. PyTourch\n",
    "3. Keras\n",
    "4. SciPy"
   ]
  },
  {
   "cell_type": "markdown",
   "id": "597eadd8",
   "metadata": {},
   "source": [
    "|Data Science Tools|\n",
    "|----|\n",
    "| Hadoop |\n",
    "| Jupyter Notebooks |\n",
    "| Panda |"
   ]
  },
  {
   "cell_type": "markdown",
   "id": "c35c38b1",
   "metadata": {},
   "source": [
    "### Below are a few examples of evaluating arithmetic expressions in Python"
   ]
  },
  {
   "cell_type": "code",
   "execution_count": 21,
   "id": "c8e1f7cb",
   "metadata": {},
   "outputs": [
    {
     "data": {
      "text/plain": [
       "17"
      ]
     },
     "execution_count": 21,
     "metadata": {},
     "output_type": "execute_result"
    }
   ],
   "source": [
    "#This a simple arithmetic expression to mutiply then add integers# \n",
    "(3*4)+5"
   ]
  },
  {
   "cell_type": "code",
   "execution_count": 22,
   "id": "9ab6f972",
   "metadata": {},
   "outputs": [
    {
     "name": "stdout",
     "output_type": "stream",
     "text": [
      "3:20\n"
     ]
    }
   ],
   "source": [
    "total_minutes = 200\n",
    "\n",
    "# Get hours with floor division\n",
    "hours = total_minutes // 60\n",
    "\n",
    "# Get additional minutes with modulus\n",
    "minutes = total_minutes % 60\n",
    "\n",
    "# Create time as a string\n",
    "time = \"{}:{}\".format(hours, minutes)\n",
    "\n",
    "print(time)"
   ]
  },
  {
   "cell_type": "code",
   "execution_count": null,
   "id": "23582f49",
   "metadata": {},
   "outputs": [],
   "source": []
  }
 ],
 "metadata": {
  "kernelspec": {
   "display_name": "Python 3 (ipykernel)",
   "language": "python",
   "name": "python3"
  },
  "language_info": {
   "codemirror_mode": {
    "name": "ipython",
    "version": 3
   },
   "file_extension": ".py",
   "mimetype": "text/x-python",
   "name": "python",
   "nbconvert_exporter": "python",
   "pygments_lexer": "ipython3",
   "version": "3.11.5"
  }
 },
 "nbformat": 4,
 "nbformat_minor": 5
}
